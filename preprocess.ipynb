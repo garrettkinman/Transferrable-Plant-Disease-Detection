{
 "cells": [
  {
   "cell_type": "code",
   "execution_count": 6,
   "metadata": {},
   "outputs": [],
   "source": [
    "# imports\n",
    "import os\n",
    "import shutil\n",
    "import csv\n",
    "import numpy as np\n",
    "import matplotlib.pyplot as plt\n",
    "import torch\n",
    "import torchvision\n",
    "import torchvision.io as io\n",
    "import torchvision.transforms as T\n",
    "from torch.utils.data import Dataset"
   ]
  },
  {
   "cell_type": "markdown",
   "metadata": {},
   "source": [
    "# Steps in Preprocessing\n",
    "\n",
    "1. Read in the whole PlantVillage dataset\n",
    "2. Set all images to uniform dimensions\n",
    "3. Apply a number of transformations to the PlantVillage dataset\n",
    "4. Create two output dataset folders split into two categories, healthy and unhealthy:\n",
    "   1. Using unaugmented images\n",
    "   2. Using augmented images\n",
    "5. Create custom PyTorch datasets corresponding to these folders\n",
    "6. Repeat steps (1) to (5) with the PlantLeaves and PlantaeK datasets (combine these two datasets)"
   ]
  },
  {
   "cell_type": "code",
   "execution_count": 2,
   "metadata": {},
   "outputs": [],
   "source": [
    "cur_dir = os.getcwd()\n",
    "train_src_dir = os.path.join(cur_dir, 'Plant_leave_diseases_dataset_with_augmentation')\n",
    "train_dst_dir = os.path.join(os.path.join(os.path.join(cur_dir, 'load_dataset'), 'dataset'), 'train')"
   ]
  },
  {
   "cell_type": "code",
   "execution_count": 5,
   "metadata": {},
   "outputs": [],
   "source": [
    "train_set = []\n",
    "img_index = 0\n",
    "img_size = (256, 256) # minimum size for ImageNet is 224x224, but default dataset is mostly 256x256; might tweak\n",
    "transform = T.Resize(size=img_size)\n",
    "\n",
    "# iterate through all the subfolders (where each subfolder corresponds to species + healthy/disease)\n",
    "# \n",
    "for subdir in os.listdir(train_src_dir):\n",
    "    if subdir == 'Background_without_leaves':\n",
    "        # ignore this case\n",
    "        pass\n",
    "    else:\n",
    "        # iterate through all the files within the subfolder\n",
    "        superdir = os.path.join(train_src_dir, subdir)\n",
    "        for src_filename in os.listdir(superdir):\n",
    "            \n",
    "            # destination filename\n",
    "            dst_filename = 'img{}.jpg'.format(img_index)\n",
    "            \n",
    "            # print(src_filename)\n",
    "            img = io.read_image(os.path.join(superdir, src_filename), mode=io.ImageReadMode.RGB)\n",
    "            img = transform(img)\n",
    "\n",
    "            # print(img.dtype)\n",
    "\n",
    "            io.write_jpeg(img, os.path.join(train_dst_dir, dst_filename), quality=90)\n",
    "\n",
    "            if subdir.endswith('healthy'):\n",
    "                # 1 to indicate it is healthy\n",
    "                train_set.append([dst_filename, 1])\n",
    "            else:\n",
    "                # 0 to indicate it is diseased\n",
    "                train_set.append([dst_filename, 0])\n",
    "            img_index += 1"
   ]
  }
 ],
 "metadata": {
  "interpreter": {
   "hash": "31f2aee4e71d21fbe5cf8b01ff0e069b9275f58929596ceb00d14d90e3e16cd6"
  },
  "kernelspec": {
   "display_name": "Python 3.8.10 64-bit",
   "language": "python",
   "name": "python3"
  },
  "language_info": {
   "codemirror_mode": {
    "name": "ipython",
    "version": 3
   },
   "file_extension": ".py",
   "mimetype": "text/x-python",
   "name": "python",
   "nbconvert_exporter": "python",
   "pygments_lexer": "ipython3",
   "version": "3.8.10"
  },
  "orig_nbformat": 4
 },
 "nbformat": 4,
 "nbformat_minor": 2
}
