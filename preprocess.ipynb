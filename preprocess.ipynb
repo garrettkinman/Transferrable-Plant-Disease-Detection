{
 "cells": [
  {
   "cell_type": "code",
   "execution_count": 6,
   "metadata": {},
   "outputs": [],
   "source": [
    "# imports\n",
    "import os\n",
    "import csv\n",
    "import torchvision.io as io\n",
    "import torchvision.transforms as T"
   ]
  },
  {
   "cell_type": "markdown",
   "metadata": {},
   "source": [
    "## Create Training Set"
   ]
  },
  {
   "cell_type": "code",
   "execution_count": 12,
   "metadata": {},
   "outputs": [],
   "source": [
    "cur_dir = os.getcwd()\n",
    "train_src_dir = os.path.join(cur_dir, 'Plant_leave_diseases_dataset_with_augmentation')\n",
    "train_dst_dir = os.path.join(os.path.join(os.path.join(cur_dir, 'load_dataset'), 'dataset'), 'train')"
   ]
  },
  {
   "cell_type": "code",
   "execution_count": 13,
   "metadata": {},
   "outputs": [],
   "source": [
    "train_set = []\n",
    "img_index = 0\n",
    "img_size = (256, 256) # minimum size for ImageNet is 224x224, but default dataset is mostly 256x256; might tweak\n",
    "transform = T.Resize(size=img_size)\n",
    "\n",
    "# iterate through all the subfolders (where each subfolder corresponds to species + healthy/disease)\n",
    "# \n",
    "for subdir in os.listdir(train_src_dir):\n",
    "    if subdir == 'Background_without_leaves':\n",
    "        # ignore this case\n",
    "        pass\n",
    "    else:\n",
    "        # iterate through all the files within the subfolder\n",
    "        superdir = os.path.join(train_src_dir, subdir)\n",
    "        for src_filename in os.listdir(superdir):\n",
    "            \n",
    "            # destination filename\n",
    "            dst_filename = 'img{}.jpg'.format(img_index)\n",
    "            \n",
    "            # print(src_filename)\n",
    "            img = io.read_image(os.path.join(superdir, src_filename), mode=io.ImageReadMode.RGB)\n",
    "            img = transform(img)\n",
    "\n",
    "            # print(img.dtype)\n",
    "\n",
    "            io.write_jpeg(img, os.path.join(train_dst_dir, dst_filename), quality=90)\n",
    "\n",
    "            if subdir.endswith('healthy'):\n",
    "                # 1 to indicate it is healthy\n",
    "                train_set.append([dst_filename, 1])\n",
    "            else:\n",
    "                # 0 to indicate it is diseased\n",
    "                train_set.append([dst_filename, 0])\n",
    "            img_index += 1"
   ]
  },
  {
   "cell_type": "code",
   "execution_count": 18,
   "metadata": {},
   "outputs": [],
   "source": [
    "# write train labels to csv\n",
    "\n",
    "# field names \n",
    "csv_fields = ['filename', 'isHealthy'] \n",
    "    \n",
    "# name of csv file \n",
    "csv_train_filename = os.path.join(os.path.join(os.path.join(cur_dir, 'load_dataset'), 'dataset'), 'train_labels.csv')\n",
    "    \n",
    "# writing to csv file \n",
    "with open(csv_train_filename, 'w') as csvfile: \n",
    "    # creating a csv writer object \n",
    "    csvwriter = csv.writer(csvfile) \n",
    "        \n",
    "    # writing the fields \n",
    "    csvwriter.writerow(csv_fields) \n",
    "        \n",
    "    # writing the data rows \n",
    "    csvwriter.writerows(train_set)"
   ]
  },
  {
   "cell_type": "markdown",
   "metadata": {},
   "source": [
    "## Create Test Set"
   ]
  },
  {
   "cell_type": "code",
   "execution_count": 14,
   "metadata": {},
   "outputs": [],
   "source": [
    "test_src_dirs = [os.path.join(cur_dir, 'A Database of Leaf Images_ Practice towards Plant Conservation with Plant Pathology'),os.path.join(cur_dir, 'PlantaeK_ A leaf database of native plants of Jammu and Kashmir')]\n",
    "test_dst_dir = os.path.join(os.path.join(os.path.join(cur_dir, 'load_dataset'), 'dataset'), 'test')"
   ]
  },
  {
   "cell_type": "code",
   "execution_count": 16,
   "metadata": {},
   "outputs": [],
   "source": [
    "test_set = []\n",
    "img_index = 0\n",
    "img_size = (256, 256) # minimum size for ImageNet is 224x224, but default dataset is mostly 256x256; might tweak\n",
    "transform = T.Resize(size=img_size)\n",
    "\n",
    "# iterate through all the subfolders (where each subfolder corresponds to species + healthy/disease)\n",
    "for test_src_dir in test_src_dirs:\n",
    "    \n",
    "    # each subdir corresponds to a species\n",
    "    for species_sub_dir in os.listdir(test_src_dir):\n",
    "        # iterate through all the files within the subfolder\n",
    "        species_dir = os.path.join(test_src_dir, species_sub_dir)\n",
    "\n",
    "        # each subsubdir corresponds to diseased or healthy\n",
    "        for status_sub_dir in os.listdir(species_dir):\n",
    "            species_status_dir = os.path.join(species_dir, status_sub_dir)\n",
    "\n",
    "            for src_filename in os.listdir(species_status_dir):\n",
    "                \n",
    "                # destination filename\n",
    "                dst_filename = 'img{}.jpg'.format(img_index)\n",
    "                \n",
    "                # print(src_filename)\n",
    "                img = io.read_image(os.path.join(species_status_dir, src_filename), mode=io.ImageReadMode.RGB)\n",
    "                img = transform(img)\n",
    "\n",
    "                # print(img.shape)\n",
    "\n",
    "                io.write_jpeg(img, os.path.join(test_dst_dir, dst_filename), quality=90)\n",
    "\n",
    "                if status_sub_dir.lower() == 'healthy':\n",
    "                    # 1 to indicate it is healthy\n",
    "                    test_set.append([dst_filename, 1])\n",
    "                elif status_sub_dir.lower() == 'diseased':\n",
    "                    # 0 to indicate it is diseased\n",
    "                    test_set.append([dst_filename, 0])\n",
    "                img_index += 1"
   ]
  },
  {
   "cell_type": "code",
   "execution_count": 19,
   "metadata": {},
   "outputs": [],
   "source": [
    "# write train labels to csv\n",
    "\n",
    "# field names \n",
    "csv_fields = ['filename', 'isHealthy'] \n",
    "    \n",
    "# name of csv file \n",
    "csv_test_filename = os.path.join(os.path.join(os.path.join(cur_dir, 'load_dataset'), 'dataset'), 'test_labels.csv')\n",
    "    \n",
    "# writing to csv file \n",
    "with open(csv_test_filename, 'w') as csvfile: \n",
    "    # creating a csv writer object \n",
    "    csvwriter = csv.writer(csvfile) \n",
    "        \n",
    "    # writing the fields \n",
    "    csvwriter.writerow(csv_fields) \n",
    "        \n",
    "    # writing the data rows \n",
    "    csvwriter.writerows(test_set)"
   ]
  }
 ],
 "metadata": {
  "interpreter": {
   "hash": "31f2aee4e71d21fbe5cf8b01ff0e069b9275f58929596ceb00d14d90e3e16cd6"
  },
  "kernelspec": {
   "display_name": "Python 3.8.10 64-bit",
   "language": "python",
   "name": "python3"
  },
  "language_info": {
   "codemirror_mode": {
    "name": "ipython",
    "version": 3
   },
   "file_extension": ".py",
   "mimetype": "text/x-python",
   "name": "python",
   "nbconvert_exporter": "python",
   "pygments_lexer": "ipython3",
   "version": "3.8.10"
  },
  "orig_nbformat": 4
 },
 "nbformat": 4,
 "nbformat_minor": 2
}
